{
 "cells": [
  {
   "cell_type": "markdown",
   "metadata": {},
   "source": [
    "# Visualizing Performance"
   ]
  },
  {
   "cell_type": "markdown",
   "metadata": {},
   "source": [
    "To make this more interesting, we are going to consider a more challenging problem.\n",
    "We will looking at how to visualize two competing implementations.\n",
    "\n",
    "### Build a Bigger CQM"
   ]
  },
  {
   "cell_type": "code",
   "execution_count": null,
   "metadata": {},
   "outputs": [],
   "source": [
    "from dimod import ConstrainedQuadraticModel\n",
    "import random\n",
    "\n",
    "# Set size parameter. Model will have n^2 variables.\n",
    "n=35\n",
    "\n",
    "# Instantiate CQM and add grid of variables\n",
    "old_cqm = ConstrainedQuadraticModel()\n",
    "old_cqm.add_variables('BINARY', [(a,b) for a in range(n) for b in range(n)])\n",
    "\n",
    "# Add psuedorandom dense objective.\n",
    "random.seed(1)\n",
    "old_cqm.set_objective([(v,w,random.randint(5,20)) for v in old_cqm.variables for w in old_cqm.variables])\n",
    "\n",
    "# Add assignment constraint.\n",
    "for i in range(n):\n",
    "    old_cqm.add_constraint_from_iterable([((i,j), 1) for j in range(n)], '==', rhs=1, label=f'({i},*)')\n",
    "    old_cqm.add_constraint_from_iterable([((j,i), 1) for j in range(n)], '==', rhs=1, label=f'(*, {i})')\n",
    "\n",
    "\n",
    "# Instantiate CQM and add grid of variables\n",
    "new_cqm = ConstrainedQuadraticModel()\n",
    "new_cqm.add_variables('BINARY', [(a,b) for a in range(n) for b in range(n)])\n",
    "\n",
    "# Add psuedorandom dense objective.\n",
    "random.seed(1)\n",
    "new_cqm.set_objective([(v,w,random.randint(5,20)) for v in new_cqm.variables for w in new_cqm.variables])\n",
    "\n",
    "\n",
    "# Add assignment constraint.\n",
    "for i in range(n):\n",
    "    new_cqm.add_discrete([(i,j) for j in range(n)], label=f'({i},*)')\n",
    "    new_cqm.add_constraint_from_iterable([((j,i), 1) for j in range(n)], '==', rhs=1, label=f'(*, {i})')\n",
    "    \n",
    "print('Number of Variables:', len(old_cqm.variables), len(new_cqm.variables))"
   ]
  },
  {
   "cell_type": "markdown",
   "metadata": {},
   "source": [
    "### Get two samplesets by submitting the CQMs to the solver"
   ]
  },
  {
   "cell_type": "code",
   "execution_count": null,
   "metadata": {},
   "outputs": [],
   "source": [
    "from dwave.system import LeapHybridCQMSampler\n",
    "\n",
    "cqm_sampler = LeapHybridCQMSampler()\n",
    "\n",
    "old_sampleset = cqm_sampler.sample_cqm(old_cqm, time_limit=5)\n",
    "new_sampleset = cqm_sampler.sample_cqm(new_cqm, time_limit=5)"
   ]
  },
  {
   "cell_type": "markdown",
   "metadata": {},
   "source": [
    "#### Best Feasible Solution"
   ]
  },
  {
   "cell_type": "code",
   "execution_count": null,
   "metadata": {},
   "outputs": [],
   "source": [
    "feasible_sampleset = old_sampleset.filter(lambda d:d.is_feasible)\n",
    "\n",
    "print('Best feasible energy:', feasible_sampleset.first.energy)"
   ]
  },
  {
   "cell_type": "markdown",
   "metadata": {},
   "source": [
    "## Quick and useful charts for distributions"
   ]
  },
  {
   "cell_type": "code",
   "execution_count": null,
   "metadata": {},
   "outputs": [],
   "source": [
    "# As a Pandas dataframe\n",
    "dataframe = feasible_sampleset.to_pandas_dataframe(True)"
   ]
  },
  {
   "cell_type": "code",
   "execution_count": null,
   "metadata": {},
   "outputs": [],
   "source": [
    "dataframe.hist('energy')"
   ]
  },
  {
   "cell_type": "code",
   "execution_count": null,
   "metadata": {},
   "outputs": [],
   "source": [
    "dataframe.boxplot('energy')"
   ]
  },
  {
   "cell_type": "markdown",
   "metadata": {},
   "source": [
    "## Visualizing Comparisons\n",
    "\n",
    "Next, we try to make more meaningful (and readible) charts to help us compare two approaches."
   ]
  },
  {
   "cell_type": "code",
   "execution_count": null,
   "metadata": {},
   "outputs": [],
   "source": [
    "# MatPlotLib is commonly used for charting in python\n",
    "import matplotlib.pyplot as plt"
   ]
  },
  {
   "cell_type": "code",
   "execution_count": null,
   "metadata": {},
   "outputs": [],
   "source": [
    "# Compare the two methods\n",
    "feasible_sampleset = old_sampleset.filter(lambda d:d.is_feasible)\n",
    "new_feasible_sampleset = new_sampleset.filter(lambda d:d.is_feasible)\n",
    "\n",
    "old_energies = feasible_sampleset.data_vectors['energy']\n",
    "new_energies = new_feasible_sampleset.data_vectors['energy']\n",
    "\n",
    "# df_old = feasible_sampleset.to_pandas_dataframe(True).energies\n",
    "# df_new = new_feasible_sampleset.to_pandas_dataframe(True).energies\n",
    "\n",
    "plt.boxplot([old_energies, new_energies], patch_artist=True, labels=['Old', 'New'])\n",
    "\n",
    "plt.grid()\n",
    "plt.title('Comparing Two Solution Strategies')\n",
    "plt.ylabel('Cost in Euros')\n",
    "plt.show()\n"
   ]
  },
  {
   "cell_type": "code",
   "execution_count": null,
   "metadata": {},
   "outputs": [],
   "source": [
    "# Fast Histogram Comparison\n",
    "plt.hist(new_energies, color = 'blue')\n",
    "plt.hist(old_energies, color = 'red')\n",
    "plt.show()"
   ]
  },
  {
   "cell_type": "code",
   "execution_count": null,
   "metadata": {},
   "outputs": [],
   "source": [
    "# Better histogram comparison\n",
    "plt.hist(old_energies, color='red', alpha=0.6)\n",
    "plt.hist(new_energies, color='blue', alpha=0.6)\n",
    "\n",
    "\n",
    "plt.title('Histogram of Solution Techniques')\n",
    "plt.xlabel('Cost in Euros')\n",
    "plt.ylabel('Frequency')\n",
    "plt.grid()\n",
    "\n",
    "plt.show()"
   ]
  },
  {
   "cell_type": "markdown",
   "metadata": {},
   "source": [
    "## Visualizing Performance over Time\n",
    "\n",
    "Most of the time, we just want the best solution. \n",
    "However, the quality can depend on how much time we have.\n",
    "To make things harder, heuristics solutions are not consistent.\n",
    "\n",
    "The burndown charts below  are a good approach to this situation."
   ]
  },
  {
   "cell_type": "code",
   "execution_count": null,
   "metadata": {},
   "outputs": [],
   "source": [
    "# Function for getting best solution at different times.\n",
    "def burndown_data(model, times):\n",
    "    best_energies = []\n",
    "    for time in times:\n",
    "        samples = cqm_sampler.sample_cqm(model, time_limit=time)\n",
    "        feasible = samples.filter(lambda d: d.is_feasible)\n",
    "        best_energies.append(feasible.first.energy)\n",
    "    return best_energies"
   ]
  },
  {
   "cell_type": "code",
   "execution_count": null,
   "metadata": {},
   "outputs": [],
   "source": [
    "## Get best solutions at differet times. Repeat 3 times.\n",
    "## This will take over 30 minutes.\n",
    "# times_exp = [5*2**t for t in range(6) for _ in range(3)]\n",
    "# best_old_energies_exp = burndown_data(old_cqm, times_exp)\n",
    "# best_new_energies_exp = burndown_data(new_cqm, times_exp)\n",
    "\n",
    "# import json\n",
    "\n",
    "## Save to file, so it does not have to be repeated.\n",
    "# with open('best_old_energies_exp.json', 'w') as f:\n",
    "#    json.dump(best_old_energies_exp, f)\n",
    "# with open('best_new_energies_exp.json', 'w') as f:\n",
    "#    json.dump(best_new_energies_exp, f)\n",
    "# with open('times_exp.json', 'w') as f:\n",
    "#    json.dump(times_exp, f)"
   ]
  },
  {
   "cell_type": "code",
   "execution_count": null,
   "metadata": {},
   "outputs": [],
   "source": [
    "# Load burndown data from file.\n",
    "import json\n",
    "\n",
    "with open('best_old_energies_exp.json', 'rb') as f:\n",
    "    best_old_energies_exp = json.load(f)\n",
    "with open('best_new_energies_exp.json', 'rb') as f:\n",
    "    best_new_energies_exp = json.load(f)\n",
    "with open('times_exp.json', 'rb') as f:\n",
    "    times_exp = json.load(f)"
   ]
  },
  {
   "cell_type": "code",
   "execution_count": null,
   "metadata": {},
   "outputs": [],
   "source": [
    "# A quick scatter plot.\n",
    "plt.scatter(times_exp, best_old_energies_exp, color = 'red')\n",
    "plt.scatter(times_exp, best_new_energies_exp, color = 'blue')\n",
    "plt.show()"
   ]
  },
  {
   "cell_type": "code",
   "execution_count": null,
   "metadata": {},
   "outputs": [],
   "source": [
    "# A nicer scatter plot.\n",
    "plt.scatter(times_exp, best_old_energies_exp, color = 'red', facecolors='none', label='Old')\n",
    "plt.scatter(times_exp, best_new_energies_exp, color = 'blue', facecolors='none', label='New')\n",
    "\n",
    "plt.grid()\n",
    "plt.title('Burndown Charts for Two Solution Strategies')\n",
    "plt.xlabel('Solve Time (s)')\n",
    "plt.ylabel('Cost in Euros')\n",
    "# plt.xscale('log')\n",
    "plt.legend()\n",
    "\n",
    "plt.show()"
   ]
  },
  {
   "cell_type": "code",
   "execution_count": null,
   "metadata": {},
   "outputs": [],
   "source": [
    "# An quick interactive scatterplot with Plotly, can be saved as an HTML file to preserve interactivity.\n",
    "import plotly.graph_objects as go\n",
    "\n",
    "fig = go.Figure()\n",
    "\n",
    "fig.add_trace(go.Scatter(x=times_exp,y=best_old_energies_exp, mode=\"markers\", marker={\"color\":\"red\"}, name=\"Old Energies\"))\n",
    "\n",
    "fig.add_trace(go.Scatter(x=times_exp, y=best_new_energies_exp, mode=\"markers\", marker={\"color\":\"blue\"}, name=\"New Energies\"))\n",
    "\n",
    "fig.update_layout(title=\"Burndown Charts for Two Solution Strategies\",\n",
    "                  xaxis_title=\"Solve Time (s)\",\n",
    "                  yaxis_title=\"Cost in Euros\",\n",
    "                  xaxis_type=\"log\"\n",
    "                 )\n",
    "\n",
    "fig.show()"
   ]
  },
  {
   "cell_type": "markdown",
   "metadata": {},
   "source": [
    "### Examples of interactive visualizations with code:\n",
    "\n",
    "Feature Selection: https://github.com/dwave-examples/feature-selection-cqm\n",
    "\n",
    "3D Bin Packing: https://github.com/dwave-examples/3d-bin-packing\n",
    "\n",
    "Tour Planning: https://github.com/dwave-examples/tour-planning "
   ]
  },
  {
   "cell_type": "code",
   "execution_count": null,
   "metadata": {},
   "outputs": [],
   "source": []
  }
 ],
 "metadata": {
  "kernelspec": {
   "display_name": "Python 3 (ipykernel)",
   "language": "python",
   "name": "python3"
  },
  "language_info": {
   "codemirror_mode": {
    "name": "ipython",
    "version": 3
   },
   "file_extension": ".py",
   "mimetype": "text/x-python",
   "name": "python",
   "nbconvert_exporter": "python",
   "pygments_lexer": "ipython3",
   "version": "3.8.9"
  }
 },
 "nbformat": 4,
 "nbformat_minor": 4
}
